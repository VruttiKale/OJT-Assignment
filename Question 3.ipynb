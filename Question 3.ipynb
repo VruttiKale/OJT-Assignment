{
 "cells": [
  {
   "cell_type": "code",
   "execution_count": 1,
   "id": "60773934",
   "metadata": {},
   "outputs": [],
   "source": [
    "import numpy as np\n",
    "import sympy as sp"
   ]
  },
  {
   "cell_type": "code",
   "execution_count": 2,
   "id": "d0d1d617",
   "metadata": {},
   "outputs": [],
   "source": [
    "# Question 3"
   ]
  },
  {
   "cell_type": "code",
   "execution_count": 3,
   "id": "d48090ad",
   "metadata": {},
   "outputs": [
    {
     "data": {
      "text/latex": [
       "$\\displaystyle \\left[\\begin{matrix}3 & 8 & 5 & 1 & 2\\\\2 & 8 & 8 & 2 & 1\\\\5 & 5 & 4 & 5 & 7\\\\4 & 4 & 1 & 3 & 9\\\\5 & 6 & 5 & 8 & 2\\end{matrix}\\right]$"
      ],
      "text/plain": [
       "Matrix([\n",
       "[3, 8, 5, 1, 2],\n",
       "[2, 8, 8, 2, 1],\n",
       "[5, 5, 4, 5, 7],\n",
       "[4, 4, 1, 3, 9],\n",
       "[5, 6, 5, 8, 2]])"
      ]
     },
     "execution_count": 3,
     "metadata": {},
     "output_type": "execute_result"
    }
   ],
   "source": [
    "np.random.seed(18)\n",
    "A = np.random.randint(0,10,(5,5))\n",
    "sp.Matrix(A)"
   ]
  },
  {
   "cell_type": "code",
   "execution_count": 4,
   "id": "353bd24c",
   "metadata": {},
   "outputs": [],
   "source": [
    "U, s, Vt = np.linalg.svd(A)"
   ]
  },
  {
   "cell_type": "code",
   "execution_count": 5,
   "id": "44b54999",
   "metadata": {},
   "outputs": [
    {
     "data": {
      "text/latex": [
       "$\\displaystyle \\left[\\begin{matrix}0 & 0 & 0 & 1.0 & 0\\\\0 & -1.0 & 0 & -1.0 & 0\\\\0 & 0 & 0 & 0 & -1.0\\\\0 & 1.0 & 0 & 0 & 1.0\\\\0 & 0 & -1.0 & 0 & 0\\end{matrix}\\right]$"
      ],
      "text/plain": [
       "Matrix([\n",
       "[0,    0,    0,  1.0,    0],\n",
       "[0, -1.0,    0, -1.0,    0],\n",
       "[0,    0,    0,    0, -1.0],\n",
       "[0,  1.0,    0,    0,  1.0],\n",
       "[0,    0, -1.0,    0,    0]])"
      ]
     },
     "execution_count": 5,
     "metadata": {},
     "output_type": "execute_result"
    }
   ],
   "source": [
    "sp.Matrix(np.round(U))"
   ]
  },
  {
   "cell_type": "code",
   "execution_count": 6,
   "id": "ddd7ad1e",
   "metadata": {},
   "outputs": [
    {
     "data": {
      "text/latex": [
       "$\\displaystyle \\left[\\begin{matrix}0 & 0 & 0 & 0 & 0\\\\0 & 0 & 0 & 0 & 0\\\\0 & 0 & 0 & 0 & 0\\\\0 & 0 & 0 & 0 & 0\\\\0 & 0 & 0 & 0 & 0\\end{matrix}\\right]$"
      ],
      "text/plain": [
       "Matrix([\n",
       "[0, 0, 0, 0, 0],\n",
       "[0, 0, 0, 0, 0],\n",
       "[0, 0, 0, 0, 0],\n",
       "[0, 0, 0, 0, 0],\n",
       "[0, 0, 0, 0, 0]])"
      ]
     },
     "execution_count": 6,
     "metadata": {},
     "output_type": "execute_result"
    }
   ],
   "source": [
    "Sigma = np.zeros((A.shape[0], A.shape[1]))\n",
    "sp.Matrix(Sigma)"
   ]
  },
  {
   "cell_type": "code",
   "execution_count": 7,
   "id": "1bcc96d6",
   "metadata": {},
   "outputs": [
    {
     "data": {
      "text/latex": [
       "$\\displaystyle \\left[\\begin{matrix}23.1425292028592 & 0 & 0 & 0 & 0\\\\0 & 9.31429944413229 & 0 & 0 & 0\\\\0 & 0 & 5.58346710868118 & 0 & 0\\\\0 & 0 & 0 & 1.77896507915097 & 0\\\\0 & 0 & 0 & 0 & 0.572141812214154\\end{matrix}\\right]$"
      ],
      "text/plain": [
       "Matrix([\n",
       "[23.1425292028592,                0,                0,                0,                 0],\n",
       "[               0, 9.31429944413229,                0,                0,                 0],\n",
       "[               0,                0, 5.58346710868118,                0,                 0],\n",
       "[               0,                0,                0, 1.77896507915097,                 0],\n",
       "[               0,                0,                0,                0, 0.572141812214154]])"
      ]
     },
     "execution_count": 7,
     "metadata": {},
     "output_type": "execute_result"
    }
   ],
   "source": [
    "Sigma[:A.shape[1], :A.shape[0]] = np.diag(s)\n",
    "sp.Matrix(Sigma)"
   ]
  },
  {
   "cell_type": "code",
   "execution_count": 8,
   "id": "f6b3dbd9",
   "metadata": {},
   "outputs": [
    {
     "data": {
      "text/latex": [
       "$\\displaystyle \\left[\\begin{matrix}-0.371624795306501 & -0.595041541333663 & -0.449547105610342 & -0.384685590520034 & -0.39717121230557\\\\0.196476855927362 & -0.359799827463234 & -0.492981052736529 & 0.170282938003601 & 0.748274235765185\\\\-0.183378235459509 & 0.31946315530594 & 0.056843337223473 & -0.824007235065095 & 0.426727813407337\\\\0.365137192974208 & 0.536803792454171 & -0.701990294029639 & -0.0689341030814424 & -0.284559721735655\\\\-0.810147585113338 & 0.355323274010411 & -0.24260161496088 & 0.373203541601429 & 0.138815828478143\\end{matrix}\\right]$"
      ],
      "text/plain": [
       "Matrix([\n",
       "[-0.371624795306501, -0.595041541333663, -0.449547105610342,  -0.384685590520034,  -0.39717121230557],\n",
       "[ 0.196476855927362, -0.359799827463234, -0.492981052736529,   0.170282938003601,  0.748274235765185],\n",
       "[-0.183378235459509,   0.31946315530594,  0.056843337223473,  -0.824007235065095,  0.426727813407337],\n",
       "[ 0.365137192974208,  0.536803792454171, -0.701990294029639, -0.0689341030814424, -0.284559721735655],\n",
       "[-0.810147585113338,  0.355323274010411,  -0.24260161496088,   0.373203541601429,  0.138815828478143]])"
      ]
     },
     "execution_count": 8,
     "metadata": {},
     "output_type": "execute_result"
    }
   ],
   "source": [
    "sp.Matrix(Vt)"
   ]
  },
  {
   "cell_type": "code",
   "execution_count": 9,
   "id": "77b71ca7",
   "metadata": {},
   "outputs": [
    {
     "data": {
      "text/latex": [
       "$\\displaystyle \\left[\\begin{matrix}3.0 & 8.0 & 5.0 & 1.0 & 2.0\\\\2.0 & 8.0 & 8.0 & 2.0 & 1.0\\\\5.0 & 5.0 & 4.0 & 5.0 & 7.0\\\\4.0 & 4.0 & 1.0 & 3.0 & 9.0\\\\5.0 & 6.0 & 5.0 & 8.0 & 2.0\\end{matrix}\\right]$"
      ],
      "text/plain": [
       "Matrix([\n",
       "[3.0, 8.0, 5.0, 1.0, 2.0],\n",
       "[2.0, 8.0, 8.0, 2.0, 1.0],\n",
       "[5.0, 5.0, 4.0, 5.0, 7.0],\n",
       "[4.0, 4.0, 1.0, 3.0, 9.0],\n",
       "[5.0, 6.0, 5.0, 8.0, 2.0]])"
      ]
     },
     "execution_count": 9,
     "metadata": {},
     "output_type": "execute_result"
    }
   ],
   "source": [
    "# Veification od SVD\n",
    "sp.Matrix(np.round(U@Sigma@Vt))"
   ]
  }
 ],
 "metadata": {
  "kernelspec": {
   "display_name": "Python 3 (ipykernel)",
   "language": "python",
   "name": "python3"
  },
  "language_info": {
   "codemirror_mode": {
    "name": "ipython",
    "version": 3
   },
   "file_extension": ".py",
   "mimetype": "text/x-python",
   "name": "python",
   "nbconvert_exporter": "python",
   "pygments_lexer": "ipython3",
   "version": "3.11.5"
  }
 },
 "nbformat": 4,
 "nbformat_minor": 5
}
