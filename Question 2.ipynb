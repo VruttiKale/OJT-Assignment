{
 "cells": [
  {
   "cell_type": "code",
   "execution_count": 1,
   "id": "a9be4322",
   "metadata": {},
   "outputs": [],
   "source": [
    "import numpy as np\n",
    "import sympy as sp"
   ]
  },
  {
   "cell_type": "code",
   "execution_count": 2,
   "id": "17376d50",
   "metadata": {},
   "outputs": [],
   "source": [
    "# Question 2"
   ]
  },
  {
   "cell_type": "code",
   "execution_count": 3,
   "id": "3950e01d",
   "metadata": {},
   "outputs": [
    {
     "data": {
      "text/latex": [
       "$\\displaystyle \\left[\\begin{matrix}3 & 8 & 5 & 1 & 2\\\\2 & 8 & 8 & 2 & 1\\\\5 & 5 & 4 & 5 & 7\\\\4 & 4 & 1 & 3 & 9\\\\5 & 6 & 5 & 8 & 2\\end{matrix}\\right]$"
      ],
      "text/plain": [
       "Matrix([\n",
       "[3, 8, 5, 1, 2],\n",
       "[2, 8, 8, 2, 1],\n",
       "[5, 5, 4, 5, 7],\n",
       "[4, 4, 1, 3, 9],\n",
       "[5, 6, 5, 8, 2]])"
      ]
     },
     "execution_count": 3,
     "metadata": {},
     "output_type": "execute_result"
    }
   ],
   "source": [
    "np.random.seed(18)\n",
    "A = np.random.randint(0,10,(5,5))\n",
    "sp.Matrix(A)"
   ]
  },
  {
   "cell_type": "code",
   "execution_count": 4,
   "id": "5340d649",
   "metadata": {},
   "outputs": [
    {
     "data": {
      "text/latex": [
       "$\\displaystyle \\left[\\begin{matrix}1 & 0 & -3 & -1 & 1\\\\2 & 8 & 8 & 2 & 1\\\\5 & 5 & 4 & 5 & 7\\\\4 & 4 & 1 & 3 & 9\\\\5 & 6 & 5 & 8 & 2\\end{matrix}\\right]$"
      ],
      "text/plain": [
       "Matrix([\n",
       "[1, 0, -3, -1, 1],\n",
       "[2, 8,  8,  2, 1],\n",
       "[5, 5,  4,  5, 7],\n",
       "[4, 4,  1,  3, 9],\n",
       "[5, 6,  5,  8, 2]])"
      ]
     },
     "execution_count": 4,
     "metadata": {},
     "output_type": "execute_result"
    }
   ],
   "source": [
    "A[0] = A[0]-A[1]\n",
    "sp.Matrix(A)"
   ]
  },
  {
   "cell_type": "code",
   "execution_count": 5,
   "id": "e6aaab56",
   "metadata": {},
   "outputs": [
    {
     "data": {
      "text/latex": [
       "$\\displaystyle \\left[\\begin{matrix}1 & 0 & -3 & -1 & 1\\\\0 & 8 & 14 & 4 & -1\\\\5 & 5 & 4 & 5 & 7\\\\4 & 4 & 1 & 3 & 9\\\\5 & 6 & 5 & 8 & 2\\end{matrix}\\right]$"
      ],
      "text/plain": [
       "Matrix([\n",
       "[1, 0, -3, -1,  1],\n",
       "[0, 8, 14,  4, -1],\n",
       "[5, 5,  4,  5,  7],\n",
       "[4, 4,  1,  3,  9],\n",
       "[5, 6,  5,  8,  2]])"
      ]
     },
     "execution_count": 5,
     "metadata": {},
     "output_type": "execute_result"
    }
   ],
   "source": [
    "A[1] = A[1]-2*A[0]\n",
    "sp.Matrix(A)"
   ]
  },
  {
   "cell_type": "code",
   "execution_count": 6,
   "id": "7e5abb03",
   "metadata": {},
   "outputs": [
    {
     "data": {
      "text/latex": [
       "$\\displaystyle \\left[\\begin{matrix}1 & 0 & -3 & -1 & 1\\\\0 & 8 & 14 & 4 & -1\\\\0 & 5 & 19 & 10 & 2\\\\4 & 4 & 1 & 3 & 9\\\\5 & 6 & 5 & 8 & 2\\end{matrix}\\right]$"
      ],
      "text/plain": [
       "Matrix([\n",
       "[1, 0, -3, -1,  1],\n",
       "[0, 8, 14,  4, -1],\n",
       "[0, 5, 19, 10,  2],\n",
       "[4, 4,  1,  3,  9],\n",
       "[5, 6,  5,  8,  2]])"
      ]
     },
     "execution_count": 6,
     "metadata": {},
     "output_type": "execute_result"
    }
   ],
   "source": [
    "A[2] = A[2]-5*A[0]\n",
    "sp.Matrix(A)"
   ]
  },
  {
   "cell_type": "code",
   "execution_count": 7,
   "id": "19a8c839",
   "metadata": {},
   "outputs": [
    {
     "data": {
      "text/latex": [
       "$\\displaystyle \\left[\\begin{matrix}1 & 0 & -3 & -1 & 1\\\\0 & 8 & 14 & 4 & -1\\\\0 & 5 & 19 & 10 & 2\\\\0 & 4 & 13 & 7 & 5\\\\5 & 6 & 5 & 8 & 2\\end{matrix}\\right]$"
      ],
      "text/plain": [
       "Matrix([\n",
       "[1, 0, -3, -1,  1],\n",
       "[0, 8, 14,  4, -1],\n",
       "[0, 5, 19, 10,  2],\n",
       "[0, 4, 13,  7,  5],\n",
       "[5, 6,  5,  8,  2]])"
      ]
     },
     "execution_count": 7,
     "metadata": {},
     "output_type": "execute_result"
    }
   ],
   "source": [
    "A[3] = A[3]-4*A[0]\n",
    "sp.Matrix(A)"
   ]
  },
  {
   "cell_type": "code",
   "execution_count": 8,
   "id": "7e5ce125",
   "metadata": {},
   "outputs": [
    {
     "data": {
      "text/latex": [
       "$\\displaystyle \\left[\\begin{matrix}1 & 0 & -3 & -1 & 1\\\\0 & 8 & 14 & 4 & -1\\\\0 & 5 & 19 & 10 & 2\\\\0 & 4 & 13 & 7 & 5\\\\0 & 6 & 20 & 13 & -3\\end{matrix}\\right]$"
      ],
      "text/plain": [
       "Matrix([\n",
       "[1, 0, -3, -1,  1],\n",
       "[0, 8, 14,  4, -1],\n",
       "[0, 5, 19, 10,  2],\n",
       "[0, 4, 13,  7,  5],\n",
       "[0, 6, 20, 13, -3]])"
      ]
     },
     "execution_count": 8,
     "metadata": {},
     "output_type": "execute_result"
    }
   ],
   "source": [
    "A[4] = A[4]-5*A[0]\n",
    "sp.Matrix(A)"
   ]
  },
  {
   "cell_type": "code",
   "execution_count": 9,
   "id": "7b97dcbd",
   "metadata": {},
   "outputs": [
    {
     "data": {
      "text/latex": [
       "$\\displaystyle \\left[\\begin{matrix}1 & 0 & -3 & -1 & 1\\\\0 & 1 & 1 & 0 & 0\\\\0 & 5 & 19 & 10 & 2\\\\0 & 4 & 13 & 7 & 5\\\\0 & 6 & 20 & 13 & -3\\end{matrix}\\right]$"
      ],
      "text/plain": [
       "Matrix([\n",
       "[1, 0, -3, -1,  1],\n",
       "[0, 1,  1,  0,  0],\n",
       "[0, 5, 19, 10,  2],\n",
       "[0, 4, 13,  7,  5],\n",
       "[0, 6, 20, 13, -3]])"
      ]
     },
     "execution_count": 9,
     "metadata": {},
     "output_type": "execute_result"
    }
   ],
   "source": [
    "A[1] = A[1]/8\n",
    "sp.Matrix(A)"
   ]
  },
  {
   "cell_type": "code",
   "execution_count": 10,
   "id": "24efcc6a",
   "metadata": {},
   "outputs": [
    {
     "data": {
      "text/latex": [
       "$\\displaystyle \\left[\\begin{matrix}1 & 0 & -3 & -1 & 1\\\\0 & 1 & 1 & 0 & 0\\\\0 & 0 & 14 & 10 & 2\\\\0 & 4 & 13 & 7 & 5\\\\0 & 6 & 20 & 13 & -3\\end{matrix}\\right]$"
      ],
      "text/plain": [
       "Matrix([\n",
       "[1, 0, -3, -1,  1],\n",
       "[0, 1,  1,  0,  0],\n",
       "[0, 0, 14, 10,  2],\n",
       "[0, 4, 13,  7,  5],\n",
       "[0, 6, 20, 13, -3]])"
      ]
     },
     "execution_count": 10,
     "metadata": {},
     "output_type": "execute_result"
    }
   ],
   "source": [
    "A[2] = A[2]-5*A[1]\n",
    "sp.Matrix(A)"
   ]
  },
  {
   "cell_type": "code",
   "execution_count": 11,
   "id": "42d383e5",
   "metadata": {},
   "outputs": [
    {
     "data": {
      "text/latex": [
       "$\\displaystyle \\left[\\begin{matrix}1 & 0 & -3 & -1 & 1\\\\0 & 1 & 1 & 0 & 0\\\\0 & 0 & 14 & 10 & 2\\\\0 & 0 & 9 & 7 & 5\\\\0 & 6 & 20 & 13 & -3\\end{matrix}\\right]$"
      ],
      "text/plain": [
       "Matrix([\n",
       "[1, 0, -3, -1,  1],\n",
       "[0, 1,  1,  0,  0],\n",
       "[0, 0, 14, 10,  2],\n",
       "[0, 0,  9,  7,  5],\n",
       "[0, 6, 20, 13, -3]])"
      ]
     },
     "execution_count": 11,
     "metadata": {},
     "output_type": "execute_result"
    }
   ],
   "source": [
    "A[3] = A[3]-4*A[1]\n",
    "sp.Matrix(A)"
   ]
  },
  {
   "cell_type": "code",
   "execution_count": 12,
   "id": "2327bf74",
   "metadata": {},
   "outputs": [
    {
     "data": {
      "text/latex": [
       "$\\displaystyle \\left[\\begin{matrix}1 & 0 & -3 & -1 & 1\\\\0 & 1 & 1 & 0 & 0\\\\0 & 0 & 14 & 10 & 2\\\\0 & 0 & 9 & 7 & 5\\\\0 & 0 & 14 & 13 & -3\\end{matrix}\\right]$"
      ],
      "text/plain": [
       "Matrix([\n",
       "[1, 0, -3, -1,  1],\n",
       "[0, 1,  1,  0,  0],\n",
       "[0, 0, 14, 10,  2],\n",
       "[0, 0,  9,  7,  5],\n",
       "[0, 0, 14, 13, -3]])"
      ]
     },
     "execution_count": 12,
     "metadata": {},
     "output_type": "execute_result"
    }
   ],
   "source": [
    "A[4] = A[4]-6*A[1]\n",
    "sp.Matrix(A)"
   ]
  },
  {
   "cell_type": "code",
   "execution_count": 13,
   "id": "e00480f5",
   "metadata": {},
   "outputs": [
    {
     "data": {
      "text/latex": [
       "$\\displaystyle \\left[\\begin{matrix}1 & 0 & 0 & 1 & 1\\\\0 & 1 & 1 & 0 & 0\\\\0 & 0 & 14 & 10 & 2\\\\0 & 0 & 9 & 7 & 5\\\\0 & 0 & 14 & 13 & -3\\end{matrix}\\right]$"
      ],
      "text/plain": [
       "Matrix([\n",
       "[1, 0,  0,  1,  1],\n",
       "[0, 1,  1,  0,  0],\n",
       "[0, 0, 14, 10,  2],\n",
       "[0, 0,  9,  7,  5],\n",
       "[0, 0, 14, 13, -3]])"
      ]
     },
     "execution_count": 13,
     "metadata": {},
     "output_type": "execute_result"
    }
   ],
   "source": [
    "A[0] = A[0]+3/14*A[2]\n",
    "sp.Matrix(A)"
   ]
  },
  {
   "cell_type": "code",
   "execution_count": 14,
   "id": "551755ec",
   "metadata": {},
   "outputs": [
    {
     "data": {
      "text/latex": [
       "$\\displaystyle \\left[\\begin{matrix}1 & 0 & 0 & 1 & 1\\\\0 & 1 & 1 & 0 & 0\\\\0 & 0 & 1 & 0 & 0\\\\0 & 0 & 9 & 7 & 5\\\\0 & 0 & 14 & 13 & -3\\end{matrix}\\right]$"
      ],
      "text/plain": [
       "Matrix([\n",
       "[1, 0,  0,  1,  1],\n",
       "[0, 1,  1,  0,  0],\n",
       "[0, 0,  1,  0,  0],\n",
       "[0, 0,  9,  7,  5],\n",
       "[0, 0, 14, 13, -3]])"
      ]
     },
     "execution_count": 14,
     "metadata": {},
     "output_type": "execute_result"
    }
   ],
   "source": [
    "A[2] = A[2]/14\n",
    "sp.Matrix(A)"
   ]
  },
  {
   "cell_type": "code",
   "execution_count": 15,
   "id": "8bec75eb",
   "metadata": {},
   "outputs": [
    {
     "data": {
      "text/latex": [
       "$\\displaystyle \\left[\\begin{matrix}1 & 0 & 0 & 1 & 1\\\\0 & 1 & 0 & 0 & 0\\\\0 & 0 & 1 & 0 & 0\\\\0 & 0 & 9 & 7 & 5\\\\0 & 0 & 14 & 13 & -3\\end{matrix}\\right]$"
      ],
      "text/plain": [
       "Matrix([\n",
       "[1, 0,  0,  1,  1],\n",
       "[0, 1,  0,  0,  0],\n",
       "[0, 0,  1,  0,  0],\n",
       "[0, 0,  9,  7,  5],\n",
       "[0, 0, 14, 13, -3]])"
      ]
     },
     "execution_count": 15,
     "metadata": {},
     "output_type": "execute_result"
    }
   ],
   "source": [
    "A[1] = A[1]-A[2]\n",
    "sp.Matrix(A)"
   ]
  },
  {
   "cell_type": "code",
   "execution_count": 16,
   "id": "4c90c378",
   "metadata": {},
   "outputs": [
    {
     "data": {
      "text/latex": [
       "$\\displaystyle \\left[\\begin{matrix}1 & 0 & 0 & 1 & 1\\\\0 & 1 & 0 & 0 & 0\\\\0 & 0 & 1 & 0 & 0\\\\0 & 0 & 0 & 7 & 5\\\\0 & 0 & 14 & 13 & -3\\end{matrix}\\right]$"
      ],
      "text/plain": [
       "Matrix([\n",
       "[1, 0,  0,  1,  1],\n",
       "[0, 1,  0,  0,  0],\n",
       "[0, 0,  1,  0,  0],\n",
       "[0, 0,  0,  7,  5],\n",
       "[0, 0, 14, 13, -3]])"
      ]
     },
     "execution_count": 16,
     "metadata": {},
     "output_type": "execute_result"
    }
   ],
   "source": [
    "A[3] = A[3]-9*A[2]\n",
    "sp.Matrix(A)"
   ]
  },
  {
   "cell_type": "code",
   "execution_count": 17,
   "id": "2483fa27",
   "metadata": {},
   "outputs": [
    {
     "data": {
      "text/latex": [
       "$\\displaystyle \\left[\\begin{matrix}1 & 0 & 0 & 1 & 1\\\\0 & 1 & 0 & 0 & 0\\\\0 & 0 & 1 & 0 & 0\\\\0 & 0 & 0 & 7 & 5\\\\0 & 0 & 0 & 13 & -3\\end{matrix}\\right]$"
      ],
      "text/plain": [
       "Matrix([\n",
       "[1, 0, 0,  1,  1],\n",
       "[0, 1, 0,  0,  0],\n",
       "[0, 0, 1,  0,  0],\n",
       "[0, 0, 0,  7,  5],\n",
       "[0, 0, 0, 13, -3]])"
      ]
     },
     "execution_count": 17,
     "metadata": {},
     "output_type": "execute_result"
    }
   ],
   "source": [
    "A[4] = A[4]-14*A[2]\n",
    "sp.Matrix(A)"
   ]
  },
  {
   "cell_type": "code",
   "execution_count": 18,
   "id": "324ae5a6",
   "metadata": {},
   "outputs": [
    {
     "data": {
      "text/latex": [
       "$\\displaystyle \\left[\\begin{matrix}1 & 0 & 0 & 0 & 0\\\\0 & 1 & 0 & 0 & 0\\\\0 & 0 & 1 & 0 & 0\\\\0 & 0 & 0 & 7 & 5\\\\0 & 0 & 0 & 13 & -3\\end{matrix}\\right]$"
      ],
      "text/plain": [
       "Matrix([\n",
       "[1, 0, 0,  0,  0],\n",
       "[0, 1, 0,  0,  0],\n",
       "[0, 0, 1,  0,  0],\n",
       "[0, 0, 0,  7,  5],\n",
       "[0, 0, 0, 13, -3]])"
      ]
     },
     "execution_count": 18,
     "metadata": {},
     "output_type": "execute_result"
    }
   ],
   "source": [
    "A[0] = A[0]-1/7*A[3]\n",
    "sp.Matrix(A)"
   ]
  },
  {
   "cell_type": "code",
   "execution_count": 19,
   "id": "e66c35d0",
   "metadata": {},
   "outputs": [
    {
     "data": {
      "text/latex": [
       "$\\displaystyle \\left[\\begin{matrix}1 & 0 & 0 & 0 & 0\\\\0 & 1 & 0 & 0 & 0\\\\0 & 0 & 1 & 0 & 0\\\\0 & 0 & 0 & 1 & 0\\\\0 & 0 & 0 & 13 & -3\\end{matrix}\\right]$"
      ],
      "text/plain": [
       "Matrix([\n",
       "[1, 0, 0,  0,  0],\n",
       "[0, 1, 0,  0,  0],\n",
       "[0, 0, 1,  0,  0],\n",
       "[0, 0, 0,  1,  0],\n",
       "[0, 0, 0, 13, -3]])"
      ]
     },
     "execution_count": 19,
     "metadata": {},
     "output_type": "execute_result"
    }
   ],
   "source": [
    "A[3] = A[3]/7\n",
    "sp.Matrix(A)"
   ]
  },
  {
   "cell_type": "code",
   "execution_count": 20,
   "id": "c58276db",
   "metadata": {},
   "outputs": [
    {
     "data": {
      "text/latex": [
       "$\\displaystyle \\left[\\begin{matrix}1 & 0 & 0 & 0 & 0\\\\0 & 1 & 0 & 0 & 0\\\\0 & 0 & 1 & 0 & 0\\\\0 & 0 & 0 & 1 & 0\\\\0 & 0 & 0 & 0 & -3\\end{matrix}\\right]$"
      ],
      "text/plain": [
       "Matrix([\n",
       "[1, 0, 0, 0,  0],\n",
       "[0, 1, 0, 0,  0],\n",
       "[0, 0, 1, 0,  0],\n",
       "[0, 0, 0, 1,  0],\n",
       "[0, 0, 0, 0, -3]])"
      ]
     },
     "execution_count": 20,
     "metadata": {},
     "output_type": "execute_result"
    }
   ],
   "source": [
    "A[4] = A[4]-13*A[3]\n",
    "sp.Matrix(A)"
   ]
  },
  {
   "cell_type": "code",
   "execution_count": 21,
   "id": "1e5e81d1",
   "metadata": {},
   "outputs": [],
   "source": [
    "# This is the Row Echelon form of the matrix A"
   ]
  }
 ],
 "metadata": {
  "kernelspec": {
   "display_name": "Python 3 (ipykernel)",
   "language": "python",
   "name": "python3"
  },
  "language_info": {
   "codemirror_mode": {
    "name": "ipython",
    "version": 3
   },
   "file_extension": ".py",
   "mimetype": "text/x-python",
   "name": "python",
   "nbconvert_exporter": "python",
   "pygments_lexer": "ipython3",
   "version": "3.11.5"
  }
 },
 "nbformat": 4,
 "nbformat_minor": 5
}
